{
 "cells": [
  {
   "cell_type": "code",
   "execution_count": 5,
   "id": "558c29d1",
   "metadata": {},
   "outputs": [],
   "source": [
    "import cv2 # OpenCV for image processing: need to extract fps from video\n",
    "from truck_detector_02 import run_truck_detection"
   ]
  },
  {
   "cell_type": "code",
   "execution_count": 7,
   "id": "3cc9163e",
   "metadata": {},
   "outputs": [],
   "source": [
    "# Define paths for input and output\n",
    "input_video_path = 'data/input_video.mp4'\n",
    "output_video = 'outputs/output_video.avi'\n",
    "output_txt = 'outputs/timestamps.txt'"
   ]
  },
  {
   "cell_type": "code",
   "execution_count": 8,
   "id": "a1e888a9",
   "metadata": {},
   "outputs": [],
   "source": [
    "# Load the video to get the FPS\n",
    "cap = cv2.VideoCapture(input_video_path)\n",
    "fps = cap.get(cv2.CAP_PROP_FPS)\n",
    "cap.release()"
   ]
  },
  {
   "cell_type": "code",
   "execution_count": null,
   "id": "274afd27",
   "metadata": {},
   "outputs": [],
   "source": [
    "# Define detection parameters: fast analysis\n",
    "check_interval=3\n",
    "cooldown=5.0\n",
    "use_confirmation=False\n",
    "min_conf=0.6"
   ]
  },
  {
   "cell_type": "markdown",
   "id": "f6f0754b",
   "metadata": {},
   "source": [
    "check_interval = 1.0 → check once every second\n",
    "\n",
    "check_interval = 1.0 / fps → check every frame"
   ]
  },
  {
   "cell_type": "code",
   "execution_count": 9,
   "id": "5b6e49c3",
   "metadata": {},
   "outputs": [],
   "source": [
    "# Define detection parameters: long time analysis\n",
    "check_interval = 2/fps      # check every N frame\n",
    "cooldown = 2.0            # cooldown between logs (to prevent logging the same truck too often)\n",
    "min_conf = 0.6            # confidence threshold (lower give more false positives)\n",
    "use_confirmation = True  # require two-frame match or not"
   ]
  },
  {
   "cell_type": "code",
   "execution_count": 12,
   "id": "3c4194a6",
   "metadata": {},
   "outputs": [
    {
     "name": "stdout",
     "output_type": "stream",
     "text": [
      "\n",
      "🔧 Using device: MPS\n",
      "🔁 Checking every 45 frames (~3.00 seconds)\n",
      "\n"
     ]
    },
    {
     "name": "stderr",
     "output_type": "stream",
     "text": [
      "🔍 Processing video:   9%|▊         | 4707/53970 [00:21<03:52, 211.48it/s]"
     ]
    },
    {
     "name": "stdout",
     "output_type": "stream",
     "text": [
      "Truck confirmed at 312.00 seconds\n"
     ]
    },
    {
     "name": "stderr",
     "output_type": "stream",
     "text": [
      "🔍 Processing video:  39%|███▊      | 20826/53970 [01:33<02:34, 214.30it/s]"
     ]
    },
    {
     "name": "stdout",
     "output_type": "stream",
     "text": [
      "Truck confirmed at 1386.00 seconds\n"
     ]
    },
    {
     "name": "stderr",
     "output_type": "stream",
     "text": [
      "🔍 Processing video:  42%|████▏     | 22716/53970 [01:42<02:18, 225.38it/s]"
     ]
    },
    {
     "name": "stdout",
     "output_type": "stream",
     "text": [
      "Truck confirmed at 1512.00 seconds\n"
     ]
    },
    {
     "name": "stderr",
     "output_type": "stream",
     "text": [
      "🔍 Processing video:  45%|████▌     | 24412/53970 [01:49<02:16, 216.08it/s]"
     ]
    },
    {
     "name": "stdout",
     "output_type": "stream",
     "text": [
      "Truck confirmed at 1626.00 seconds\n"
     ]
    },
    {
     "name": "stderr",
     "output_type": "stream",
     "text": [
      "🔍 Processing video:  60%|██████    | 32553/53970 [02:26<01:37, 220.10it/s]"
     ]
    },
    {
     "name": "stdout",
     "output_type": "stream",
     "text": [
      "Truck confirmed at 2169.00 seconds\n"
     ]
    },
    {
     "name": "stderr",
     "output_type": "stream",
     "text": [
      "🔍 Processing video:  61%|██████    | 32836/53970 [02:27<01:32, 228.00it/s]"
     ]
    },
    {
     "name": "stdout",
     "output_type": "stream",
     "text": [
      "Truck confirmed at 2187.00 seconds\n",
      "Truck confirmed at 2190.00 seconds\n"
     ]
    },
    {
     "name": "stderr",
     "output_type": "stream",
     "text": [
      "🔍 Processing video:  61%|██████    | 32941/53970 [02:27<01:34, 223.50it/s]"
     ]
    },
    {
     "name": "stdout",
     "output_type": "stream",
     "text": [
      "Truck confirmed at 2193.00 seconds\n"
     ]
    },
    {
     "name": "stderr",
     "output_type": "stream",
     "text": [
      "🔍 Processing video:  61%|██████    | 33020/53970 [02:28<01:30, 230.52it/s]"
     ]
    },
    {
     "name": "stdout",
     "output_type": "stream",
     "text": [
      "Truck confirmed at 2199.00 seconds\n"
     ]
    },
    {
     "name": "stderr",
     "output_type": "stream",
     "text": [
      "🔍 Processing video:  61%|██████▏   | 33069/53970 [02:28<01:32, 226.09it/s]"
     ]
    },
    {
     "name": "stdout",
     "output_type": "stream",
     "text": [
      "Truck confirmed at 2202.00 seconds\n"
     ]
    },
    {
     "name": "stderr",
     "output_type": "stream",
     "text": [
      "🔍 Processing video:  66%|██████▌   | 35351/53970 [02:38<01:29, 209.10it/s]"
     ]
    },
    {
     "name": "stdout",
     "output_type": "stream",
     "text": [
      "Truck confirmed at 2355.00 seconds\n"
     ]
    },
    {
     "name": "stderr",
     "output_type": "stream",
     "text": [
      "🔍 Processing video:  70%|███████   | 37839/53970 [02:50<01:14, 216.47it/s]"
     ]
    },
    {
     "name": "stdout",
     "output_type": "stream",
     "text": [
      "Truck confirmed at 2520.00 seconds\n"
     ]
    },
    {
     "name": "stderr",
     "output_type": "stream",
     "text": [
      "🔍 Processing video:  70%|███████   | 37885/53970 [02:50<01:15, 211.69it/s]"
     ]
    },
    {
     "name": "stdout",
     "output_type": "stream",
     "text": [
      "Truck confirmed at 2523.00 seconds\n"
     ]
    },
    {
     "name": "stderr",
     "output_type": "stream",
     "text": [
      "🔍 Processing video:  70%|███████   | 37931/53970 [02:50<01:15, 211.44it/s]"
     ]
    },
    {
     "name": "stdout",
     "output_type": "stream",
     "text": [
      "Truck confirmed at 2526.00 seconds\n"
     ]
    },
    {
     "name": "stderr",
     "output_type": "stream",
     "text": [
      "🔍 Processing video:  85%|████████▌ | 45938/53970 [03:27<00:37, 212.41it/s]"
     ]
    },
    {
     "name": "stdout",
     "output_type": "stream",
     "text": [
      "Truck confirmed at 3060.00 seconds\n"
     ]
    },
    {
     "name": "stderr",
     "output_type": "stream",
     "text": [
      "🔍 Processing video:  88%|████████▊ | 47608/53970 [03:34<00:33, 190.28it/s]"
     ]
    },
    {
     "name": "stdout",
     "output_type": "stream",
     "text": [
      "Truck confirmed at 3171.00 seconds\n"
     ]
    },
    {
     "name": "stderr",
     "output_type": "stream",
     "text": [
      "🔍 Processing video:  94%|█████████▎| 50526/53970 [03:48<00:16, 213.80it/s]"
     ]
    },
    {
     "name": "stdout",
     "output_type": "stream",
     "text": [
      "Truck confirmed at 3366.00 seconds\n"
     ]
    },
    {
     "name": "stderr",
     "output_type": "stream",
     "text": [
      "🔍 Processing video: 100%|█████████▉| 53806/53970 [04:03<00:00, 224.16it/s]"
     ]
    },
    {
     "name": "stdout",
     "output_type": "stream",
     "text": [
      "Truck confirmed at 3585.00 seconds\n"
     ]
    },
    {
     "name": "stderr",
     "output_type": "stream",
     "text": [
      "🔍 Processing video: 100%|██████████| 53970/53970 [04:04<00:00, 221.10it/s]"
     ]
    },
    {
     "name": "stdout",
     "output_type": "stream",
     "text": [
      "\n",
      "✅ Detection complete. Timestamps saved to outputs/timestamps.csv\n"
     ]
    },
    {
     "name": "stderr",
     "output_type": "stream",
     "text": [
      "\n"
     ]
    }
   ],
   "source": [
    "timestamps = run_truck_detection(\n",
    "    input_path=input_video_path,\n",
    "    output_video=output_video,\n",
    "    output_txt=output_txt,\n",
    "    class_name='truck',\n",
    "    check_interval=check_interval,\n",
    "    cooldown=cooldown,\n",
    "    min_conf=min_conf,\n",
    "    use_confirmation=use_confirmation\n",
    ")\n"
   ]
  }
 ],
 "metadata": {
  "kernelspec": {
   "display_name": ".venv",
   "language": "python",
   "name": "python3"
  },
  "language_info": {
   "codemirror_mode": {
    "name": "ipython",
    "version": 3
   },
   "file_extension": ".py",
   "mimetype": "text/x-python",
   "name": "python",
   "nbconvert_exporter": "python",
   "pygments_lexer": "ipython3",
   "version": "3.12.2"
  }
 },
 "nbformat": 4,
 "nbformat_minor": 5
}
