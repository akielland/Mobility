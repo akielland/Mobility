{
 "cells": [
  {
   "cell_type": "code",
   "execution_count": null,
   "id": "21b51563",
   "metadata": {
    "vscode": {
     "languageId": "plaintext"
    }
   },
   "outputs": [],
   "source": []
  },
  {
   "cell_type": "code",
   "execution_count": null,
   "id": "5bd37937",
   "metadata": {
    "vscode": {
     "languageId": "plaintext"
    }
   },
   "outputs": [],
   "source": [
    "# Imports\n",
    "from src.detect_video import run_detection\n",
    "from src.co_occurrence import extract_co_occurrence"
   ]
  },
  {
   "cell_type": "code",
   "execution_count": null,
   "id": "43ddd053",
   "metadata": {
    "vscode": {
     "languageId": "plaintext"
    }
   },
   "outputs": [],
   "source": [
    "# Paths and Parameters\n",
    "video_path = 'data/raw_video.mp4'\n",
    "model_path = 'yolo12n.pt'\n",
    "detections_path = 'output/detections.json'\n",
    "co_occurrence_csv = 'output/co_occurrence.csv'\n",
    "frames_dir = 'output/frames'"
   ]
  },
  {
   "cell_type": "code",
   "execution_count": null,
   "id": "964a7b02",
   "metadata": {
    "vscode": {
     "languageId": "plaintext"
    }
   },
   "outputs": [],
   "source": [
    "# Detection Settings\n",
    "sample_interval = 1.0   # seconds\n",
    "min_conf = 0.5          # minimum confidence for detection"
   ]
  },
  {
   "cell_type": "code",
   "execution_count": null,
   "id": "600390ff",
   "metadata": {
    "vscode": {
     "languageId": "plaintext"
    }
   },
   "outputs": [],
   "source": [
    "# Co-occurrence Settings\n",
    "target_classes = ['truck', 'bike']\n",
    "save_frames = True"
   ]
  },
  {
   "cell_type": "code",
   "execution_count": null,
   "id": "732af388",
   "metadata": {
    "vscode": {
     "languageId": "plaintext"
    }
   },
   "outputs": [],
   "source": [
    "# Step 1: Run Detection\n",
    "print(\"\\n=== Running Detection ===\")\n",
    "detections = run_detection(\n",
    "    input_path=video_path,\n",
    "    model_path=model_path,\n",
    "    output_json=detections_path,\n",
    "    sample_interval=sample_interval,\n",
    "    min_conf=min_conf\n",
    ")"
   ]
  },
  {
   "cell_type": "code",
   "execution_count": null,
   "id": "6137a99d",
   "metadata": {
    "vscode": {
     "languageId": "plaintext"
    }
   },
   "outputs": [],
   "source": [
    "# Step 2: Run Co-occurrence Filtering\n",
    "print(\"\\n=== Extracting Co-occurrence ===\")\n",
    "df = extract_co_occurrence(\n",
    "    video_path=video_path,\n",
    "    detections_path=detections_path,\n",
    "    target_classes=target_classes,\n",
    "    output_csv=co_occurrence_csv,\n",
    "    output_frame_dir=frames_dir,\n",
    "    save_frames=save_frames\n",
    ")"
   ]
  },
  {
   "cell_type": "code",
   "execution_count": null,
   "id": "bf60621f",
   "metadata": {
    "vscode": {
     "languageId": "plaintext"
    }
   },
   "outputs": [],
   "source": [
    "# Show Result Summary\n",
    "print(\"\\n=== Summary ===\")\n",
    "display(df.head())\n",
    "print(f\"\\nTotal frames with {target_classes}: {len(df)}\")"
   ]
  }
 ],
 "metadata": {
  "language_info": {
   "name": "python"
  }
 },
 "nbformat": 4,
 "nbformat_minor": 5
}
